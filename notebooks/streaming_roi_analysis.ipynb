{
 "cells": [
  {
   "cell_type": "markdown",
   "id": "d85ce535",
   "metadata": {},
   "source": [
    "## Artist Investments vs. Streaming Success  \n",
    "### Introduction\n",
    "\n",
    "The recorded music industry has undergone radical changes in the past two decades, with per-listen royalties replacing revenue from physical media and paid downloads. This transition dramatically reduced artist income while competition from exploding content catalogs increased.\n",
    "\n",
    "This project explores the effectiveness of different artist investments in driving streaming performance, attempting to quantify how spending on production and promotion is associated with differing stream counts. The aim is guide artists towards prioritizing costs that provide a measurable return."
   ]
  },
  {
   "cell_type": "markdown",
   "id": "b6c9ad49",
   "metadata": {},
   "source": [
    "### Data Exploration\n",
    "\n",
    "We'll explore/clean the streaming data and survey responses to produce summary statistics and visual diagnostics for the key variables used in the regression analysis."
   ]
  },
  {
   "cell_type": "code",
   "execution_count": 1,
   "id": "73ea3b2a",
   "metadata": {},
   "outputs": [],
   "source": [
    "import pandas as pd\n",
    "import numpy as np\n",
    "import scipy.stats as stats\n",
    "import statsmodels.formula.api as smf\n",
    "from statsmodels.iolib.summary2 import summary_col\n",
    "import matplotlib.pyplot as plt\n",
    "import seaborn as sns\n",
    "sns.set(context='notebook')"
   ]
  },
  {
   "cell_type": "code",
   "execution_count": 2,
   "id": "e3b1939a",
   "metadata": {},
   "outputs": [
    {
     "data": {
      "application/vnd.microsoft.datawrangler.viewer.v0+json": {
       "columns": [
        {
         "name": "index",
         "rawType": "int64",
         "type": "integer"
        },
        {
         "name": "artist",
         "rawType": "object",
         "type": "string"
        },
        {
         "name": "quantity",
         "rawType": "float64",
         "type": "float"
        },
        {
         "name": "platform",
         "rawType": "object",
         "type": "string"
        },
        {
         "name": "price",
         "rawType": "float64",
         "type": "float"
        },
        {
         "name": "rev",
         "rawType": "float64",
         "type": "float"
        },
        {
         "name": "type",
         "rawType": "object",
         "type": "string"
        },
        {
         "name": "date",
         "rawType": "object",
         "type": "string"
        }
       ],
       "ref": "e5a10e67-922e-45df-a0b2-4f11f94b258a",
       "rows": [
        [
         "75608",
         "Artist_011",
         "1.0",
         "GOOGLE",
         "0.00914168",
         "0.009141680021",
         "STREAM",
         "2020-04-30"
        ],
        [
         "154987",
         "Artist_027",
         "2.0",
         "APPLE MUSIC",
         "3.6927e-05",
         "7.390000000000001e-05",
         "STREAM",
         "2020-06-30"
        ],
        [
         "130036",
         "Artist_027",
         "5.0",
         "APPLE MUSIC",
         "0.00996359",
         "0.049817949",
         "STREAM",
         "2020-03-31"
        ],
        [
         "95358",
         "Artist_013",
         "1.0",
         "SPOTIFY",
         "0.001771709",
         "0.001771709",
         "STREAM",
         "2020-05-31"
        ],
        [
         "9925",
         "Artist_004",
         "1.0",
         "APPLE MUSIC",
         "0.0001697759999999",
         "0.0001697759999999",
         "STREAM",
         "2020-05-31"
        ]
       ],
       "shape": {
        "columns": 7,
        "rows": 5
       }
      },
      "text/html": [
       "<div>\n",
       "<style scoped>\n",
       "    .dataframe tbody tr th:only-of-type {\n",
       "        vertical-align: middle;\n",
       "    }\n",
       "\n",
       "    .dataframe tbody tr th {\n",
       "        vertical-align: top;\n",
       "    }\n",
       "\n",
       "    .dataframe thead th {\n",
       "        text-align: right;\n",
       "    }\n",
       "</style>\n",
       "<table border=\"1\" class=\"dataframe\">\n",
       "  <thead>\n",
       "    <tr style=\"text-align: right;\">\n",
       "      <th></th>\n",
       "      <th>artist</th>\n",
       "      <th>quantity</th>\n",
       "      <th>platform</th>\n",
       "      <th>price</th>\n",
       "      <th>rev</th>\n",
       "      <th>type</th>\n",
       "      <th>date</th>\n",
       "    </tr>\n",
       "  </thead>\n",
       "  <tbody>\n",
       "    <tr>\n",
       "      <th>75608</th>\n",
       "      <td>Artist_011</td>\n",
       "      <td>1.0</td>\n",
       "      <td>GOOGLE</td>\n",
       "      <td>0.009142</td>\n",
       "      <td>0.009142</td>\n",
       "      <td>STREAM</td>\n",
       "      <td>2020-04-30</td>\n",
       "    </tr>\n",
       "    <tr>\n",
       "      <th>154987</th>\n",
       "      <td>Artist_027</td>\n",
       "      <td>2.0</td>\n",
       "      <td>APPLE MUSIC</td>\n",
       "      <td>0.000037</td>\n",
       "      <td>0.000074</td>\n",
       "      <td>STREAM</td>\n",
       "      <td>2020-06-30</td>\n",
       "    </tr>\n",
       "    <tr>\n",
       "      <th>130036</th>\n",
       "      <td>Artist_027</td>\n",
       "      <td>5.0</td>\n",
       "      <td>APPLE MUSIC</td>\n",
       "      <td>0.009964</td>\n",
       "      <td>0.049818</td>\n",
       "      <td>STREAM</td>\n",
       "      <td>2020-03-31</td>\n",
       "    </tr>\n",
       "    <tr>\n",
       "      <th>95358</th>\n",
       "      <td>Artist_013</td>\n",
       "      <td>1.0</td>\n",
       "      <td>SPOTIFY</td>\n",
       "      <td>0.001772</td>\n",
       "      <td>0.001772</td>\n",
       "      <td>STREAM</td>\n",
       "      <td>2020-05-31</td>\n",
       "    </tr>\n",
       "    <tr>\n",
       "      <th>9925</th>\n",
       "      <td>Artist_004</td>\n",
       "      <td>1.0</td>\n",
       "      <td>APPLE MUSIC</td>\n",
       "      <td>0.000170</td>\n",
       "      <td>0.000170</td>\n",
       "      <td>STREAM</td>\n",
       "      <td>2020-05-31</td>\n",
       "    </tr>\n",
       "  </tbody>\n",
       "</table>\n",
       "</div>"
      ],
      "text/plain": [
       "            artist  quantity     platform     price       rev    type  \\\n",
       "75608   Artist_011       1.0       GOOGLE  0.009142  0.009142  STREAM   \n",
       "154987  Artist_027       2.0  APPLE MUSIC  0.000037  0.000074  STREAM   \n",
       "130036  Artist_027       5.0  APPLE MUSIC  0.009964  0.049818  STREAM   \n",
       "95358   Artist_013       1.0      SPOTIFY  0.001772  0.001772  STREAM   \n",
       "9925    Artist_004       1.0  APPLE MUSIC  0.000170  0.000170  STREAM   \n",
       "\n",
       "              date  \n",
       "75608   2020-04-30  \n",
       "154987  2020-06-30  \n",
       "130036  2020-03-31  \n",
       "95358   2020-05-31  \n",
       "9925    2020-05-31  "
      ]
     },
     "execution_count": 2,
     "metadata": {},
     "output_type": "execute_result"
    }
   ],
   "source": [
    "streams = pd.read_csv('../data/streaming_data_anonymized.csv')\n",
    "\n",
    "# Drop two artists due to unreplicable distribution methods\n",
    "streams = streams[~streams['artist'].isin([\"Artist_006\", \"Artist_039\"])]\n",
    "streams.sample(5)"
   ]
  },
  {
   "cell_type": "code",
   "execution_count": 3,
   "id": "a04ae5dc",
   "metadata": {},
   "outputs": [
    {
     "data": {
      "application/vnd.microsoft.datawrangler.viewer.v0+json": {
       "columns": [
        {
         "name": "type",
         "rawType": "object",
         "type": "string"
        },
        {
         "name": "count",
         "rawType": "int64",
         "type": "integer"
        }
       ],
       "ref": "9a0621d3-3d4c-4337-8dfe-b428c2eb6e17",
       "rows": [
        [
         "STREAM",
         "168837"
        ],
        [
         "DOWNLOAD",
         "1055"
        ],
        [
         "YOUTUBE",
         "435"
        ],
        [
         "ROYALTY",
         "143"
        ]
       ],
       "shape": {
        "columns": 1,
        "rows": 4
       }
      },
      "text/plain": [
       "type\n",
       "STREAM      168837\n",
       "DOWNLOAD      1055\n",
       "YOUTUBE        435\n",
       "ROYALTY        143\n",
       "Name: count, dtype: int64"
      ]
     },
     "execution_count": 3,
     "metadata": {},
     "output_type": "execute_result"
    }
   ],
   "source": [
    "# type column implies there could be more than STREAM data. Let's inspect\n",
    "streams.type.value_counts()"
   ]
  },
  {
   "cell_type": "code",
   "execution_count": 4,
   "id": "cb1c6cc0",
   "metadata": {},
   "outputs": [
    {
     "name": "stdout",
     "output_type": "stream",
     "text": [
      "<class 'pandas.core.frame.DataFrame'>\n",
      "Index: 168837 entries, 0 to 192998\n",
      "Data columns (total 7 columns):\n",
      " #   Column    Non-Null Count   Dtype  \n",
      "---  ------    --------------   -----  \n",
      " 0   artist    168837 non-null  object \n",
      " 1   quantity  168837 non-null  float64\n",
      " 2   platform  168837 non-null  object \n",
      " 3   price     168837 non-null  float64\n",
      " 4   rev       168837 non-null  float64\n",
      " 5   type      168837 non-null  object \n",
      " 6   date      168837 non-null  object \n",
      "dtypes: float64(3), object(4)\n",
      "memory usage: 10.3+ MB\n"
     ]
    }
   ],
   "source": [
    "# let's filter for only streams\n",
    "streams = streams[streams['type'] == \"STREAM\"]\n",
    "streams.info()"
   ]
  },
  {
   "cell_type": "code",
   "execution_count": 5,
   "id": "99b065f4",
   "metadata": {},
   "outputs": [
    {
     "data": {
      "image/png": "[encoded data removed]",
      "text/plain": [
       "<Figure size 640x480 with 1 Axes>"
      ]
     },
     "metadata": {},
     "output_type": "display_data"
    }
   ],
   "source": [
    "# inspect stream count by artist\n",
    "streams_by_artist = streams.groupby(\"artist\")[\"quantity\"].sum().sort_values(ascending=False)\n",
    "\n",
    "ax = streams_by_artist.plot.bar()\n",
    "ax.set(ylabel=\"Stream Count\", xlabel=\"\", title=\"Stream Counts by Artist\")\n",
    "ax.yaxis.set_major_formatter(plt.FuncFormatter(lambda x, _: f'{int(x):,}' if x >= 1 else ''))\n",
    "plt.tight_layout()\n",
    "plt.show()"
   ]
  },
  {
   "cell_type": "markdown",
   "id": "41c621d0",
   "metadata": {},
   "source": [
    "This looks lognormally distributed towards a couple of dominant artists. Let's confirm..."
   ]
  },
  {
   "cell_type": "code",
   "execution_count": 6,
   "id": "fcf0d3ee",
   "metadata": {},
   "outputs": [
    {
     "data": {
      "image/png": "[encoded data removed]",
      "text/plain": [
       "<Figure size 600x600 with 1 Axes>"
      ]
     },
     "metadata": {},
     "output_type": "display_data"
    }
   ],
   "source": [
    "log_streams = np.log1p(streams_by_artist.values)\n",
    "\n",
    "fig = plt.figure(figsize=(6, 6))\n",
    "ax_qq = fig.add_subplot(111)\n",
    "stats.probplot(log_streams, dist=\"norm\", plot=ax_qq)\n",
    "ax_qq.set_title(\"QQ Plot of Lognormal Fit Against Data\")\n",
    "plt.tight_layout()\n",
    "plt.show()"
   ]
  },
  {
   "cell_type": "markdown",
   "id": "a6595448",
   "metadata": {},
   "source": [
    "The QQ plot confirms that stream counts are approximately lognormally distributed, meaning most artists receive relatively few streams while a small number achieve disproportionately high counts."
   ]
  },
  {
   "cell_type": "code",
   "execution_count": 7,
   "id": "7e775c34",
   "metadata": {},
   "outputs": [
    {
     "data": {
      "application/vnd.microsoft.datawrangler.viewer.v0+json": {
       "columns": [
        {
         "name": "index",
         "rawType": "int64",
         "type": "integer"
        },
        {
         "name": "artist",
         "rawType": "object",
         "type": "string"
        },
        {
         "name": "continent",
         "rawType": "object",
         "type": "string"
        },
        {
         "name": "genre",
         "rawType": "object",
         "type": "string"
        },
        {
         "name": "vocals",
         "rawType": "int64",
         "type": "integer"
        },
        {
         "name": "years_since_most_active",
         "rawType": "int64",
         "type": "integer"
        },
        {
         "name": "tour_cities",
         "rawType": "int64",
         "type": "integer"
        },
        {
         "name": "covers",
         "rawType": "int64",
         "type": "integer"
        },
        {
         "name": "add_content",
         "rawType": "int64",
         "type": "integer"
        },
        {
         "name": "prod_cost",
         "rawType": "int64",
         "type": "integer"
        },
        {
         "name": "art_cost",
         "rawType": "int64",
         "type": "integer"
        },
        {
         "name": "videos",
         "rawType": "int64",
         "type": "integer"
        },
        {
         "name": "pr",
         "rawType": "int64",
         "type": "integer"
        },
        {
         "name": "ad_spend",
         "rawType": "int64",
         "type": "integer"
        },
        {
         "name": "num_albums",
         "rawType": "int64",
         "type": "integer"
        },
        {
         "name": "singles_eps",
         "rawType": "int64",
         "type": "integer"
        },
        {
         "name": "num_titles",
         "rawType": "int64",
         "type": "integer"
        },
        {
         "name": "years_active",
         "rawType": "int64",
         "type": "integer"
        },
        {
         "name": "videos_hq",
         "rawType": "int64",
         "type": "integer"
        },
        {
         "name": "label",
         "rawType": "int64",
         "type": "integer"
        }
       ],
       "ref": "52374aa3-7960-448b-8350-bb4ad1a867dd",
       "rows": [
        [
         "0",
         "Artist_041",
         "North America",
         "Jazz",
         "0",
         "4",
         "10",
         "1",
         "0",
         "800",
         "500",
         "7",
         "0",
         "1200",
         "1",
         "0",
         "1",
         "1",
         "0",
         "0"
        ],
        [
         "1",
         "Artist_037",
         "North America",
         "Funk",
         "0",
         "4",
         "25",
         "0",
         "0",
         "3000",
         "0",
         "12",
         "0",
         "1500",
         "1",
         "0",
         "1",
         "1",
         "4",
         "0"
        ],
        [
         "2",
         "Artist_034",
         "North America",
         "Pop",
         "1",
         "1",
         "1",
         "0",
         "0",
         "300",
         "0",
         "0",
         "0",
         "100",
         "0",
         "1",
         "1",
         "1",
         "0",
         "0"
        ],
        [
         "3",
         "Artist_010",
         "North America",
         "Jazz",
         "1",
         "1",
         "30",
         "1",
         "0",
         "5790",
         "300",
         "20",
         "2",
         "500",
         "2",
         "7",
         "9",
         "6",
         "7",
         "0"
        ],
        [
         "4",
         "Artist_025",
         "North America",
         "Folk/Americana",
         "1",
         "3",
         "161",
         "1",
         "0",
         "12000",
         "100",
         "273",
         "3",
         "5000",
         "4",
         "7",
         "11",
         "8",
         "14",
         "0"
        ]
       ],
       "shape": {
        "columns": 19,
        "rows": 5
       }
      },
      "text/html": [
       "<div>\n",
       "<style scoped>\n",
       "    .dataframe tbody tr th:only-of-type {\n",
       "        vertical-align: middle;\n",
       "    }\n",
       "\n",
       "    .dataframe tbody tr th {\n",
       "        vertical-align: top;\n",
       "    }\n",
       "\n",
       "    .dataframe thead th {\n",
       "        text-align: right;\n",
       "    }\n",
       "</style>\n",
       "<table border=\"1\" class=\"dataframe\">\n",
       "  <thead>\n",
       "    <tr style=\"text-align: right;\">\n",
       "      <th></th>\n",
       "      <th>artist</th>\n",
       "      <th>continent</th>\n",
       "      <th>genre</th>\n",
       "      <th>vocals</th>\n",
       "      <th>years_since_most_active</th>\n",
       "      <th>tour_cities</th>\n",
       "      <th>covers</th>\n",
       "      <th>add_content</th>\n",
       "      <th>prod_cost</th>\n",
       "      <th>art_cost</th>\n",
       "      <th>videos</th>\n",
       "      <th>pr</th>\n",
       "      <th>ad_spend</th>\n",
       "      <th>num_albums</th>\n",
       "      <th>singles_eps</th>\n",
       "      <th>num_titles</th>\n",
       "      <th>years_active</th>\n",
       "      <th>videos_hq</th>\n",
       "      <th>label</th>\n",
       "    </tr>\n",
       "  </thead>\n",
       "  <tbody>\n",
       "    <tr>\n",
       "      <th>0</th>\n",
       "      <td>Artist_041</td>\n",
       "      <td>North America</td>\n",
       "      <td>Jazz</td>\n",
       "      <td>0</td>\n",
       "      <td>4</td>\n",
       "      <td>10</td>\n",
       "      <td>1</td>\n",
       "      <td>0</td>\n",
       "      <td>800</td>\n",
       "      <td>500</td>\n",
       "      <td>7</td>\n",
       "      <td>0</td>\n",
       "      <td>1200</td>\n",
       "      <td>1</td>\n",
       "      <td>0</td>\n",
       "      <td>1</td>\n",
       "      <td>1</td>\n",
       "      <td>0</td>\n",
       "      <td>0</td>\n",
       "    </tr>\n",
       "    <tr>\n",
       "      <th>1</th>\n",
       "      <td>Artist_037</td>\n",
       "      <td>North America</td>\n",
       "      <td>Funk</td>\n",
       "      <td>0</td>\n",
       "      <td>4</td>\n",
       "      <td>25</td>\n",
       "      <td>0</td>\n",
       "      <td>0</td>\n",
       "      <td>3000</td>\n",
       "      <td>0</td>\n",
       "      <td>12</td>\n",
       "      <td>0</td>\n",
       "      <td>1500</td>\n",
       "      <td>1</td>\n",
       "      <td>0</td>\n",
       "      <td>1</td>\n",
       "      <td>1</td>\n",
       "      <td>4</td>\n",
       "      <td>0</td>\n",
       "    </tr>\n",
       "    <tr>\n",
       "      <th>2</th>\n",
       "      <td>Artist_034</td>\n",
       "      <td>North America</td>\n",
       "      <td>Pop</td>\n",
       "      <td>1</td>\n",
       "      <td>1</td>\n",
       "      <td>1</td>\n",
       "      <td>0</td>\n",
       "      <td>0</td>\n",
       "      <td>300</td>\n",
       "      <td>0</td>\n",
       "      <td>0</td>\n",
       "      <td>0</td>\n",
       "      <td>100</td>\n",
       "      <td>0</td>\n",
       "      <td>1</td>\n",
       "      <td>1</td>\n",
       "      <td>1</td>\n",
       "      <td>0</td>\n",
       "      <td>0</td>\n",
       "    </tr>\n",
       "    <tr>\n",
       "      <th>3</th>\n",
       "      <td>Artist_010</td>\n",
       "      <td>North America</td>\n",
       "      <td>Jazz</td>\n",
       "      <td>1</td>\n",
       "      <td>1</td>\n",
       "      <td>30</td>\n",
       "      <td>1</td>\n",
       "      <td>0</td>\n",
       "      <td>5790</td>\n",
       "      <td>300</td>\n",
       "      <td>20</td>\n",
       "      <td>2</td>\n",
       "      <td>500</td>\n",
       "      <td>2</td>\n",
       "      <td>7</td>\n",
       "      <td>9</td>\n",
       "      <td>6</td>\n",
       "      <td>7</td>\n",
       "      <td>0</td>\n",
       "    </tr>\n",
       "    <tr>\n",
       "      <th>4</th>\n",
       "      <td>Artist_025</td>\n",
       "      <td>North America</td>\n",
       "      <td>Folk/Americana</td>\n",
       "      <td>1</td>\n",
       "      <td>3</td>\n",
       "      <td>161</td>\n",
       "      <td>1</td>\n",
       "      <td>0</td>\n",
       "      <td>12000</td>\n",
       "      <td>100</td>\n",
       "      <td>273</td>\n",
       "      <td>3</td>\n",
       "      <td>5000</td>\n",
       "      <td>4</td>\n",
       "      <td>7</td>\n",
       "      <td>11</td>\n",
       "      <td>8</td>\n",
       "      <td>14</td>\n",
       "      <td>0</td>\n",
       "    </tr>\n",
       "  </tbody>\n",
       "</table>\n",
       "</div>"
      ],
      "text/plain": [
       "       artist      continent           genre  vocals  years_since_most_active  \\\n",
       "0  Artist_041  North America            Jazz       0                        4   \n",
       "1  Artist_037  North America            Funk       0                        4   \n",
       "2  Artist_034  North America             Pop       1                        1   \n",
       "3  Artist_010  North America            Jazz       1                        1   \n",
       "4  Artist_025  North America  Folk/Americana       1                        3   \n",
       "\n",
       "   tour_cities  covers  add_content  prod_cost  art_cost  videos  pr  \\\n",
       "0           10       1            0        800       500       7   0   \n",
       "1           25       0            0       3000         0      12   0   \n",
       "2            1       0            0        300         0       0   0   \n",
       "3           30       1            0       5790       300      20   2   \n",
       "4          161       1            0      12000       100     273   3   \n",
       "\n",
       "   ad_spend  num_albums  singles_eps  num_titles  years_active  videos_hq  \\\n",
       "0      1200           1            0           1             1          0   \n",
       "1      1500           1            0           1             1          4   \n",
       "2       100           0            1           1             1          0   \n",
       "3       500           2            7           9             6          7   \n",
       "4      5000           4            7          11             8         14   \n",
       "\n",
       "   label  \n",
       "0      0  \n",
       "1      0  \n",
       "2      0  \n",
       "3      0  \n",
       "4      0  "
      ]
     },
     "execution_count": 7,
     "metadata": {},
     "output_type": "execute_result"
    }
   ],
   "source": [
    "survey = pd.read_csv('../data/survey_responses_anonymized.csv')\n",
    "\n",
    "# Drop two artists due to highly-abnormal distribution methods\n",
    "survey = survey[~survey['artist'].isin([\"Artist_006\", \"Artist_039\"])]\n",
    "survey.head()"
   ]
  },
  {
   "cell_type": "code",
   "execution_count": 8,
   "id": "05ae04c4",
   "metadata": {},
   "outputs": [
    {
     "data": {
      "application/vnd.microsoft.datawrangler.viewer.v0+json": {
       "columns": [
        {
         "name": "index",
         "rawType": "object",
         "type": "string"
        },
        {
         "name": "prod_cost",
         "rawType": "float64",
         "type": "float"
        },
        {
         "name": "pr",
         "rawType": "float64",
         "type": "float"
        },
        {
         "name": "ad_spend",
         "rawType": "float64",
         "type": "float"
        },
        {
         "name": "num_albums",
         "rawType": "float64",
         "type": "float"
        },
        {
         "name": "singles_eps",
         "rawType": "float64",
         "type": "float"
        },
        {
         "name": "videos_hq",
         "rawType": "float64",
         "type": "float"
        },
        {
         "name": "stream_count",
         "rawType": "float64",
         "type": "float"
        }
       ],
       "ref": "ec2ed966-7d85-4754-a5ca-273b67756d4a",
       "rows": [
        [
         "count",
         "40.0",
         "40.0",
         "40.0",
         "40.0",
         "40.0",
         "40.0",
         "40.0"
        ],
        [
         "mean",
         "4.917",
         "1.175",
         "6.626",
         "3.1",
         "1.575",
         "2.025",
         "59668.075"
        ],
        [
         "std",
         "4.256",
         "1.174",
         "20.191",
         "3.249",
         "2.836",
         "3.445",
         "212641.441"
        ],
        [
         "min",
         "0.0",
         "0.0",
         "0.0",
         "0.0",
         "0.0",
         "0.0",
         "20.0"
        ],
        [
         "50%",
         "3.75",
         "1.0",
         "1.0",
         "2.0",
         "0.0",
         "0.0",
         "2241.0"
        ],
        [
         "max",
         "18.0",
         "4.0",
         "120.0",
         "19.0",
         "12.0",
         "14.0",
         "1062833.0"
        ]
       ],
       "shape": {
        "columns": 7,
        "rows": 6
       }
      },
      "text/html": [
       "<div>\n",
       "<style scoped>\n",
       "    .dataframe tbody tr th:only-of-type {\n",
       "        vertical-align: middle;\n",
       "    }\n",
       "\n",
       "    .dataframe tbody tr th {\n",
       "        vertical-align: top;\n",
       "    }\n",
       "\n",
       "    .dataframe thead th {\n",
       "        text-align: right;\n",
       "    }\n",
       "</style>\n",
       "<table border=\"1\" class=\"dataframe\">\n",
       "  <thead>\n",
       "    <tr style=\"text-align: right;\">\n",
       "      <th></th>\n",
       "      <th>prod_cost</th>\n",
       "      <th>pr</th>\n",
       "      <th>ad_spend</th>\n",
       "      <th>num_albums</th>\n",
       "      <th>singles_eps</th>\n",
       "      <th>videos_hq</th>\n",
       "      <th>stream_count</th>\n",
       "    </tr>\n",
       "  </thead>\n",
       "  <tbody>\n",
       "    <tr>\n",
       "      <th>count</th>\n",
       "      <td>40.000</td>\n",
       "      <td>40.000</td>\n",
       "      <td>40.000</td>\n",
       "      <td>40.000</td>\n",
       "      <td>40.000</td>\n",
       "      <td>40.000</td>\n",
       "      <td>40.000</td>\n",
       "    </tr>\n",
       "    <tr>\n",
       "      <th>mean</th>\n",
       "      <td>4.917</td>\n",
       "      <td>1.175</td>\n",
       "      <td>6.626</td>\n",
       "      <td>3.100</td>\n",
       "      <td>1.575</td>\n",
       "      <td>2.025</td>\n",
       "      <td>59668.075</td>\n",
       "    </tr>\n",
       "    <tr>\n",
       "      <th>std</th>\n",
       "      <td>4.256</td>\n",
       "      <td>1.174</td>\n",
       "      <td>20.191</td>\n",
       "      <td>3.249</td>\n",
       "      <td>2.836</td>\n",
       "      <td>3.445</td>\n",
       "      <td>212641.441</td>\n",
       "    </tr>\n",
       "    <tr>\n",
       "      <th>min</th>\n",
       "      <td>0.000</td>\n",
       "      <td>0.000</td>\n",
       "      <td>0.000</td>\n",
       "      <td>0.000</td>\n",
       "      <td>0.000</td>\n",
       "      <td>0.000</td>\n",
       "      <td>20.000</td>\n",
       "    </tr>\n",
       "    <tr>\n",
       "      <th>50%</th>\n",
       "      <td>3.750</td>\n",
       "      <td>1.000</td>\n",
       "      <td>1.000</td>\n",
       "      <td>2.000</td>\n",
       "      <td>0.000</td>\n",
       "      <td>0.000</td>\n",
       "      <td>2241.000</td>\n",
       "    </tr>\n",
       "    <tr>\n",
       "      <th>max</th>\n",
       "      <td>18.000</td>\n",
       "      <td>4.000</td>\n",
       "      <td>120.000</td>\n",
       "      <td>19.000</td>\n",
       "      <td>12.000</td>\n",
       "      <td>14.000</td>\n",
       "      <td>1062833.000</td>\n",
       "    </tr>\n",
       "  </tbody>\n",
       "</table>\n",
       "</div>"
      ],
      "text/plain": [
       "       prod_cost      pr  ad_spend  num_albums  singles_eps  videos_hq  \\\n",
       "count     40.000  40.000    40.000      40.000       40.000     40.000   \n",
       "mean       4.917   1.175     6.626       3.100        1.575      2.025   \n",
       "std        4.256   1.174    20.191       3.249        2.836      3.445   \n",
       "min        0.000   0.000     0.000       0.000        0.000      0.000   \n",
       "50%        3.750   1.000     1.000       2.000        0.000      0.000   \n",
       "max       18.000   4.000   120.000      19.000       12.000     14.000   \n",
       "\n",
       "       stream_count  \n",
       "count        40.000  \n",
       "mean      59668.075  \n",
       "std      212641.441  \n",
       "min          20.000  \n",
       "50%        2241.000  \n",
       "max     1062833.000  "
      ]
     },
     "execution_count": 8,
     "metadata": {},
     "output_type": "execute_result"
    }
   ],
   "source": [
    "# lots of data, fast-forward to the important columns and inspect summary stats\n",
    "survey = survey[['artist', 'prod_cost', 'pr', 'ad_spend', 'num_albums', 'singles_eps', 'videos_hq', 'label']]\n",
    "\n",
    "# scale prod cost in thousands, ad cost in hundreds\n",
    "survey[\"prod_cost\"] = survey[\"prod_cost\"] / 1000\n",
    "survey[\"ad_spend\"] = survey[\"ad_spend\"] / 100\n",
    "\n",
    "# join stream count to survey data\n",
    "df = survey.merge(streams_by_artist.rename(\"stream_count\"), left_on=\"artist\", right_index=True, how=\"left\")\n",
    "\n",
    "# let's see summary stats\n",
    "df.drop(\"label\", axis=1).describe().loc[['count', 'mean', 'std', 'min', '50%', 'max']].round(3)"
   ]
  },
  {
   "cell_type": "code",
   "execution_count": 9,
   "id": "20daa96b",
   "metadata": {},
   "outputs": [
    {
     "data": {
      "image/png": "[encoded data removed]",
      "text/plain": [
       "<Figure size 1400x1500 with 6 Axes>"
      ]
     },
     "metadata": {},
     "output_type": "display_data"
    }
   ],
   "source": [
    "# let's visualize the relationship between investments, output, and stream counts\n",
    "fig, axes = plt.subplots(3, 2, figsize=(14, 15))\n",
    "features = ['prod_cost', 'ad_spend', 'pr', 'videos_hq', 'num_albums','singles_eps']\n",
    "titles = ['Production Cost ($1,000s)', 'Ad Spend ($100s)', 'PR Campaigns', 'High-Quality Videos Release', 'Number of Albums','Number of Singles, EPs']\n",
    "\n",
    "for ax, feature, title in zip(axes.flatten(), features, titles):\n",
    "    ax.scatter(df[feature], df['stream_count'])\n",
    "    ax.set_yscale('log')\n",
    "    ax.set_ylabel('Streams')\n",
    "    ax.set_xlabel(title)\n",
    "    ax.yaxis.set_major_formatter(plt.FuncFormatter(lambda x, _: f'{int(x):,}'))\n",
    "\n",
    "plt.suptitle('Variables vs Artist Stream Counts')\n",
    "plt.tight_layout()\n",
    "plt.show()"
   ]
  },
  {
   "cell_type": "markdown",
   "id": "bc131685",
   "metadata": {},
   "source": [
    "The scatterplots reveal a potential nonlinear relationship between production cost and stream counts, and two potentially high-leverage outliers in ad spending. Other variables such as PR campaigns, HQ video releases, and catalog size show weaker or more diffuse relationships with streaming performance.\n"
   ]
  },
  {
   "cell_type": "markdown",
   "id": "ff5c1f49",
   "metadata": {},
   "source": [
    "### Modeling\n",
    "\n",
    "We estimate a series of OLS regressions to investigate the relationship between artist investments and streaming performance. The dependent variable is the natural log of stream counts. The primary independent variables include production cost (with a squared term), PR campaigns, ad spend, number of HQ videos, and catalog size controls. Label affiliation is treated as a binary categorical variable.\n"
   ]
  },
  {
   "cell_type": "code",
   "execution_count": 10,
   "id": "6d517830",
   "metadata": {},
   "outputs": [
    {
     "name": "stdout",
     "output_type": "stream",
     "text": [
      "\n",
      "=========================================================================\n",
      "                 (1)       (2)       (3)       (4)       (5)       (6)¹  \n",
      "-------------------------------------------------------------------------\n",
      "prod_cost      0.219*** 0.909***  1.090***  1.159***  1.085***  1.113*** \n",
      "               (0.072)  (0.191)   (0.190)   (0.206)   (0.195)   (0.194)  \n",
      "prod_cost_sq            -0.047*** -0.057*** -0.060*** -0.057*** -0.057***\n",
      "                        (0.012)   (0.012)   (0.013)   (0.012)   (0.012)  \n",
      "ad_spend                          0.045***  0.048***  0.050***  0.079    \n",
      "                                  (0.015)   (0.015)   (0.015)   (0.066)  \n",
      "pr                                -0.668**  -0.715**  -0.639**  -0.618** \n",
      "                                  (0.299)   (0.305)   (0.307)   (0.303)  \n",
      "videos_hq                                   -0.073                       \n",
      "                                            (0.083)                      \n",
      "num_albums     0.006    0.024     0.143     0.160     0.184*    0.186*   \n",
      "               (0.102)  (0.086)   (0.094)   (0.096)   (0.093)   (0.092)  \n",
      "singles_eps    0.346*** 0.383***  0.315***  0.347***  0.289***  0.317*** \n",
      "               (0.108)  (0.092)   (0.095)   (0.102)   (0.096)   (0.096)  \n",
      "label          1.434*   1.372*    1.059     1.034                        \n",
      "               (0.813)  (0.690)   (0.637)   (0.640)                      \n",
      "Intercept      5.946*** 4.423***  4.238***  4.126***  4.308***  4.076*** \n",
      "               (0.567)  (0.625)   (0.566)   (0.582)   (0.579)   (0.608)  \n",
      "R-squared      0.410    0.587     0.692     0.699     0.665     0.615    \n",
      "R-squared Adj. 0.342    0.527     0.624     0.621     0.604     0.541    \n",
      "N              40       40        40        40        40        38       \n",
      "SER            1.906    1.617     1.441     1.446     1.479     1.458    \n",
      "=========================================================================\n",
      "Standard errors in parentheses.\n",
      "* p<.1, ** p<.05, ***p<.01\n",
      "¹ Model 6 excludes two high-leverage ad spend outliers.\n",
      "\n",
      "The adjusted R² and standard error of regression (SER) indicate overall model fit.\n",
      "Coefficients can be interpreted approximately as percent changes in stream counts for unit changes in each variable.\n"
     ]
    }
   ],
   "source": [
    "# Create modeling variables\n",
    "df[\"log_streams\"] = np.log(df[\"stream_count\"])\n",
    "df[\"prod_cost_sq\"] = df[\"prod_cost\"] ** 2\n",
    "\n",
    "# Define models specs\n",
    "formulas = {\n",
    "    \"model1\": \"log_streams ~ prod_cost + num_albums + singles_eps + label\",\n",
    "    \"model2\": \"log_streams ~ prod_cost + prod_cost_sq + num_albums + singles_eps + label\",\n",
    "    \"model3\": \"log_streams ~ prod_cost + prod_cost_sq + ad_spend + pr + num_albums + singles_eps + label\",\n",
    "    \"model4\": \"log_streams ~ prod_cost + prod_cost_sq + ad_spend + pr + videos_hq + num_albums + singles_eps + label\",\n",
    "    \"model5\": \"log_streams ~ prod_cost + prod_cost_sq + ad_spend + pr + num_albums + singles_eps\"\n",
    "}\n",
    "\n",
    "# Run models on full data\n",
    "results_full = {name: smf.ols(formula, data=df).fit() for name, formula in formulas.items()}\n",
    "\n",
    "# Exclude two ad spend outliers, re-run model 5 on trimmed data\n",
    "df_trimmed = df[df[\"ad_spend\"] < 40]\n",
    "results_trimmed = smf.ols(formulas[\"model5\"], data=df_trimmed).fit()\n",
    "\n",
    "all_models = list(results_full.values())[:] + [results_trimmed]\n",
    "model_names = [\"(1)\", \"(2)\", \"(3)\", \"(4)\", \"(5)\", \"(6)¹\"]\n",
    "\n",
    "# Summary table\n",
    "results_table = summary_col(\n",
    "    results=all_models,\n",
    "    float_format=\"%0.3f\",\n",
    "    stars=True,\n",
    "    model_names=model_names,\n",
    "    info_dict={\n",
    "        \"N\": lambda x: f\"{int(x.nobs)}\",\n",
    "        \"SER\": lambda x: f\"{np.sqrt(x.mse_resid):.3f}\"\n",
    "    },\n",
    "    regressor_order=[\n",
    "        \"prod_cost\", \"prod_cost_sq\", \"ad_spend\", \"pr\", \"videos_hq\",\n",
    "        \"num_albums\", \"singles_eps\", \"label\", \"Intercept\"\n",
    "    ]\n",
    ")\n",
    "\n",
    "print(results_table)\n",
    "print(\"¹ Model 6 excludes two high-leverage ad spend outliers.\")\n",
    "print(\"\\nThe adjusted R² and standard error of regression (SER) indicate overall model fit.\\nCoefficients can be interpreted approximately as percent changes in stream counts for unit changes in each variable.\")\n"
   ]
  },
  {
   "cell_type": "markdown",
   "id": "b3eada54",
   "metadata": {},
   "source": [
    "### Results & Conclusion\n",
    "\n",
    "- Production spending showed the strongest and most consistent positive association with streaming activity across all models, with evidence of diminishing returns above ~$9,500\n",
    "\n",
    "- Social media ad spend was also positively associated with stream counts, though its significance declined when extreme outliers were excluded.\n",
    "\n",
    "- PR campaigns were negatively associated with stream counts in every specification, while high-quality video releases and label affiliation had no measurable effect, suggesting that traditional promotional tools may be less effective in a streaming-first landscape.\n",
    "\n",
    "- Releasing singles and EPs was more strongly associated with higher stream counts than releasing full-length albums, supporting a strategy of frequent, smaller releases.\n",
    "\n",
    "- Due to the data's concentration in jazz/instrumental genres, geographic skew, and reliance on self-reported data, these findings are not broadly generalizable. Still, they offer directional insight into effective investment strategies for artists."
   ]
  }
 ],
 "metadata": {
  "kernelspec": {
   "display_name": "base",
   "language": "python",
   "name": "python3"
  },
  "language_info": {
   "codemirror_mode": {
    "name": "ipython",
    "version": 3
   },
   "file_extension": ".py",
   "mimetype": "text/x-python",
   "name": "python",
   "nbconvert_exporter": "python",
   "pygments_lexer": "ipython3",
   "version": "3.12.4"
  }
 },
 "nbformat": 4,
 "nbformat_minor": 5
}
